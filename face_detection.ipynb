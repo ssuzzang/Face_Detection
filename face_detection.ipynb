{
 "cells": [
  {
   "cell_type": "markdown",
   "metadata": {},
   "source": [
    "# 얼굴 감지(Face Detection)\n"
   ]
  },
  {
   "cell_type": "markdown",
   "metadata": {},
   "source": [
    "[Landmark index map](https://github.com/google/mediapipe/blob/a908d668c730da128dfa8d9f6bd25d519d006692/mediapipe/modules/face_geometry/data/canonical_face_model_uv_visualization.png)"
   ]
  },
  {
   "cell_type": "code",
   "execution_count": 3,
   "metadata": {},
   "outputs": [
    {
     "name": "stdout",
     "output_type": "stream",
     "text": [
      "Requirement already satisfied: opencv-python in c:\\programdata\\anaconda3\\envs\\jinsu\\lib\\site-packages (4.10.0.84)\n",
      "Requirement already satisfied: numpy>=1.17.0 in c:\\programdata\\anaconda3\\envs\\jinsu\\lib\\site-packages (from opencv-python) (2.0.2)\n",
      "Note: you may need to restart the kernel to use updated packages.\n",
      "Requirement already satisfied: mediapipe in c:\\programdata\\anaconda3\\envs\\jinsu\\lib\\site-packages (0.10.14)\n",
      "Requirement already satisfied: absl-py in c:\\programdata\\anaconda3\\envs\\jinsu\\lib\\site-packages (from mediapipe) (2.1.0)\n",
      "Requirement already satisfied: attrs>=19.1.0 in c:\\programdata\\anaconda3\\envs\\jinsu\\lib\\site-packages (from mediapipe) (24.2.0)\n",
      "Requirement already satisfied: flatbuffers>=2.0 in c:\\programdata\\anaconda3\\envs\\jinsu\\lib\\site-packages (from mediapipe) (24.3.25)\n",
      "Requirement already satisfied: jax in c:\\programdata\\anaconda3\\envs\\jinsu\\lib\\site-packages (from mediapipe) (0.4.30)\n",
      "Requirement already satisfied: jaxlib in c:\\programdata\\anaconda3\\envs\\jinsu\\lib\\site-packages (from mediapipe) (0.4.30)\n",
      "Requirement already satisfied: matplotlib in c:\\programdata\\anaconda3\\envs\\jinsu\\lib\\site-packages (from mediapipe) (3.9.2)\n",
      "Requirement already satisfied: numpy in c:\\programdata\\anaconda3\\envs\\jinsu\\lib\\site-packages (from mediapipe) (2.0.2)\n",
      "Requirement already satisfied: opencv-contrib-python in c:\\programdata\\anaconda3\\envs\\jinsu\\lib\\site-packages (from mediapipe) (4.10.0.84)\n",
      "Requirement already satisfied: protobuf<5,>=4.25.3 in c:\\programdata\\anaconda3\\envs\\jinsu\\lib\\site-packages (from mediapipe) (4.25.5)\n",
      "Requirement already satisfied: sounddevice>=0.4.4 in c:\\programdata\\anaconda3\\envs\\jinsu\\lib\\site-packages (from mediapipe) (0.5.0)\n",
      "Requirement already satisfied: CFFI>=1.0 in c:\\programdata\\anaconda3\\envs\\jinsu\\lib\\site-packages (from sounddevice>=0.4.4->mediapipe) (1.17.1)\n",
      "Requirement already satisfied: ml-dtypes>=0.2.0 in c:\\programdata\\anaconda3\\envs\\jinsu\\lib\\site-packages (from jax->mediapipe) (0.5.0)\n",
      "Requirement already satisfied: opt-einsum in c:\\programdata\\anaconda3\\envs\\jinsu\\lib\\site-packages (from jax->mediapipe) (3.4.0)\n",
      "Requirement already satisfied: scipy>=1.9 in c:\\programdata\\anaconda3\\envs\\jinsu\\lib\\site-packages (from jax->mediapipe) (1.13.1)\n",
      "Requirement already satisfied: importlib-metadata>=4.6 in c:\\programdata\\anaconda3\\envs\\jinsu\\lib\\site-packages (from jax->mediapipe) (7.0.1)\n",
      "Requirement already satisfied: contourpy>=1.0.1 in c:\\programdata\\anaconda3\\envs\\jinsu\\lib\\site-packages (from matplotlib->mediapipe) (1.3.0)\n",
      "Requirement already satisfied: cycler>=0.10 in c:\\programdata\\anaconda3\\envs\\jinsu\\lib\\site-packages (from matplotlib->mediapipe) (0.12.1)\n",
      "Requirement already satisfied: fonttools>=4.22.0 in c:\\programdata\\anaconda3\\envs\\jinsu\\lib\\site-packages (from matplotlib->mediapipe) (4.54.1)\n",
      "Requirement already satisfied: kiwisolver>=1.3.1 in c:\\programdata\\anaconda3\\envs\\jinsu\\lib\\site-packages (from matplotlib->mediapipe) (1.4.7)\n",
      "Requirement already satisfied: packaging>=20.0 in c:\\programdata\\anaconda3\\envs\\jinsu\\lib\\site-packages (from matplotlib->mediapipe) (24.1)\n",
      "Requirement already satisfied: pillow>=8 in c:\\programdata\\anaconda3\\envs\\jinsu\\lib\\site-packages (from matplotlib->mediapipe) (10.4.0)\n",
      "Requirement already satisfied: pyparsing>=2.3.1 in c:\\programdata\\anaconda3\\envs\\jinsu\\lib\\site-packages (from matplotlib->mediapipe) (3.1.4)\n",
      "Requirement already satisfied: python-dateutil>=2.7 in c:\\programdata\\anaconda3\\envs\\jinsu\\lib\\site-packages (from matplotlib->mediapipe) (2.9.0.post0)\n",
      "Requirement already satisfied: importlib-resources>=3.2.0 in c:\\programdata\\anaconda3\\envs\\jinsu\\lib\\site-packages (from matplotlib->mediapipe) (6.4.5)\n",
      "Requirement already satisfied: pycparser in c:\\programdata\\anaconda3\\envs\\jinsu\\lib\\site-packages (from CFFI>=1.0->sounddevice>=0.4.4->mediapipe) (2.22)\n",
      "Requirement already satisfied: zipp>=0.5 in c:\\programdata\\anaconda3\\envs\\jinsu\\lib\\site-packages (from importlib-metadata>=4.6->jax->mediapipe) (3.17.0)\n",
      "Requirement already satisfied: six>=1.5 in c:\\programdata\\anaconda3\\envs\\jinsu\\lib\\site-packages (from python-dateutil>=2.7->matplotlib->mediapipe) (1.16.0)\n",
      "Note: you may need to restart the kernel to use updated packages.\n",
      "Requirement already satisfied: opencv-python in c:\\programdata\\anaconda3\\envs\\jinsu\\lib\\site-packages (4.10.0.84)\n",
      "Requirement already satisfied: opencv-python-headless in c:\\programdata\\anaconda3\\envs\\jinsu\\lib\\site-packages (4.10.0.84)\n",
      "Requirement already satisfied: mediapipe in c:\\programdata\\anaconda3\\envs\\jinsu\\lib\\site-packages (0.10.14)\n",
      "Requirement already satisfied: numpy>=1.17.0 in c:\\programdata\\anaconda3\\envs\\jinsu\\lib\\site-packages (from opencv-python) (2.0.2)\n",
      "Requirement already satisfied: absl-py in c:\\programdata\\anaconda3\\envs\\jinsu\\lib\\site-packages (from mediapipe) (2.1.0)\n",
      "Requirement already satisfied: attrs>=19.1.0 in c:\\programdata\\anaconda3\\envs\\jinsu\\lib\\site-packages (from mediapipe) (24.2.0)\n",
      "Requirement already satisfied: flatbuffers>=2.0 in c:\\programdata\\anaconda3\\envs\\jinsu\\lib\\site-packages (from mediapipe) (24.3.25)\n",
      "Requirement already satisfied: jax in c:\\programdata\\anaconda3\\envs\\jinsu\\lib\\site-packages (from mediapipe) (0.4.30)\n",
      "Requirement already satisfied: jaxlib in c:\\programdata\\anaconda3\\envs\\jinsu\\lib\\site-packages (from mediapipe) (0.4.30)\n",
      "Requirement already satisfied: matplotlib in c:\\programdata\\anaconda3\\envs\\jinsu\\lib\\site-packages (from mediapipe) (3.9.2)\n",
      "Requirement already satisfied: opencv-contrib-python in c:\\programdata\\anaconda3\\envs\\jinsu\\lib\\site-packages (from mediapipe) (4.10.0.84)\n",
      "Requirement already satisfied: protobuf<5,>=4.25.3 in c:\\programdata\\anaconda3\\envs\\jinsu\\lib\\site-packages (from mediapipe) (4.25.5)\n",
      "Requirement already satisfied: sounddevice>=0.4.4 in c:\\programdata\\anaconda3\\envs\\jinsu\\lib\\site-packages (from mediapipe) (0.5.0)\n",
      "Requirement already satisfied: CFFI>=1.0 in c:\\programdata\\anaconda3\\envs\\jinsu\\lib\\site-packages (from sounddevice>=0.4.4->mediapipe) (1.17.1)\n",
      "Requirement already satisfied: ml-dtypes>=0.2.0 in c:\\programdata\\anaconda3\\envs\\jinsu\\lib\\site-packages (from jax->mediapipe) (0.5.0)\n",
      "Requirement already satisfied: opt-einsum in c:\\programdata\\anaconda3\\envs\\jinsu\\lib\\site-packages (from jax->mediapipe) (3.4.0)\n",
      "Requirement already satisfied: scipy>=1.9 in c:\\programdata\\anaconda3\\envs\\jinsu\\lib\\site-packages (from jax->mediapipe) (1.13.1)\n",
      "Requirement already satisfied: importlib-metadata>=4.6 in c:\\programdata\\anaconda3\\envs\\jinsu\\lib\\site-packages (from jax->mediapipe) (7.0.1)\n",
      "Requirement already satisfied: contourpy>=1.0.1 in c:\\programdata\\anaconda3\\envs\\jinsu\\lib\\site-packages (from matplotlib->mediapipe) (1.3.0)\n",
      "Requirement already satisfied: cycler>=0.10 in c:\\programdata\\anaconda3\\envs\\jinsu\\lib\\site-packages (from matplotlib->mediapipe) (0.12.1)\n",
      "Requirement already satisfied: fonttools>=4.22.0 in c:\\programdata\\anaconda3\\envs\\jinsu\\lib\\site-packages (from matplotlib->mediapipe) (4.54.1)\n",
      "Requirement already satisfied: kiwisolver>=1.3.1 in c:\\programdata\\anaconda3\\envs\\jinsu\\lib\\site-packages (from matplotlib->mediapipe) (1.4.7)\n",
      "Requirement already satisfied: packaging>=20.0 in c:\\programdata\\anaconda3\\envs\\jinsu\\lib\\site-packages (from matplotlib->mediapipe) (24.1)\n",
      "Requirement already satisfied: pillow>=8 in c:\\programdata\\anaconda3\\envs\\jinsu\\lib\\site-packages (from matplotlib->mediapipe) (10.4.0)\n",
      "Requirement already satisfied: pyparsing>=2.3.1 in c:\\programdata\\anaconda3\\envs\\jinsu\\lib\\site-packages (from matplotlib->mediapipe) (3.1.4)\n",
      "Requirement already satisfied: python-dateutil>=2.7 in c:\\programdata\\anaconda3\\envs\\jinsu\\lib\\site-packages (from matplotlib->mediapipe) (2.9.0.post0)\n",
      "Requirement already satisfied: importlib-resources>=3.2.0 in c:\\programdata\\anaconda3\\envs\\jinsu\\lib\\site-packages (from matplotlib->mediapipe) (6.4.5)\n",
      "Requirement already satisfied: pycparser in c:\\programdata\\anaconda3\\envs\\jinsu\\lib\\site-packages (from CFFI>=1.0->sounddevice>=0.4.4->mediapipe) (2.22)\n",
      "Requirement already satisfied: zipp>=0.5 in c:\\programdata\\anaconda3\\envs\\jinsu\\lib\\site-packages (from importlib-metadata>=4.6->jax->mediapipe) (3.17.0)\n",
      "Requirement already satisfied: six>=1.5 in c:\\programdata\\anaconda3\\envs\\jinsu\\lib\\site-packages (from python-dateutil>=2.7->matplotlib->mediapipe) (1.16.0)\n",
      "Note: you may need to restart the kernel to use updated packages.\n"
     ]
    }
   ],
   "source": [
    "%pip install opencv-python\n",
    "%pip install mediapipe\n",
    "%pip install opencv-python opencv-python-headless mediapipe --upgrade\n",
    "%pip uninstall opencv-python\n",
    "%pip install opencv-python-headless\n",
    "\n"
   ]
  },
  {
   "cell_type": "code",
   "execution_count": 2,
   "metadata": {},
   "outputs": [
    {
     "name": "stderr",
     "output_type": "stream",
     "text": [
      "c:\\ProgramData\\Anaconda3\\envs\\jinsu\\lib\\site-packages\\google\\protobuf\\symbol_database.py:55: UserWarning: SymbolDatabase.GetPrototype() is deprecated. Please use message_factory.GetMessageClass() instead. SymbolDatabase.GetPrototype() will be removed soon.\n",
      "  warnings.warn('SymbolDatabase.GetPrototype() is deprecated. Please '\n"
     ]
    },
    {
     "ename": "error",
     "evalue": "OpenCV(4.10.0) D:\\a\\opencv-python\\opencv-python\\opencv\\modules\\highgui\\src\\window.cpp:1301: error: (-2:Unspecified error) The function is not implemented. Rebuild the library with Windows, GTK+ 2.x or Cocoa support. If you are on Ubuntu or Debian, install libgtk2.0-dev and pkg-config, then re-run cmake or configure script in function 'cvShowImage'\n",
     "output_type": "error",
     "traceback": [
      "\u001b[1;31m---------------------------------------------------------------------------\u001b[0m",
      "\u001b[1;31merror\u001b[0m                                     Traceback (most recent call last)",
      "Cell \u001b[1;32mIn[2], line 50\u001b[0m\n\u001b[0;32m     47\u001b[0m cv2\u001b[38;5;241m.\u001b[39mcircle(image, landmarks[\u001b[38;5;241m0\u001b[39m][\u001b[38;5;241m159\u001b[39m], \u001b[38;5;241m2\u001b[39m, (\u001b[38;5;241m255\u001b[39m, \u001b[38;5;241m255\u001b[39m, \u001b[38;5;241m255\u001b[39m), cv2\u001b[38;5;241m.\u001b[39mFILLED)\n\u001b[0;32m     48\u001b[0m cv2\u001b[38;5;241m.\u001b[39mcircle(image, landmarks[\u001b[38;5;241m0\u001b[39m][\u001b[38;5;241m145\u001b[39m], \u001b[38;5;241m2\u001b[39m, (\u001b[38;5;241m255\u001b[39m, \u001b[38;5;241m255\u001b[39m, \u001b[38;5;241m255\u001b[39m), cv2\u001b[38;5;241m.\u001b[39mFILLED)\n\u001b[1;32m---> 50\u001b[0m \u001b[43mcv2\u001b[49m\u001b[38;5;241;43m.\u001b[39;49m\u001b[43mimshow\u001b[49m\u001b[43m(\u001b[49m\u001b[38;5;124;43m\"\u001b[39;49m\u001b[38;5;124;43mMediaPipe Face Mesh\u001b[39;49m\u001b[38;5;124;43m\"\u001b[39;49m\u001b[43m,\u001b[49m\u001b[43m \u001b[49m\u001b[43mimage\u001b[49m\u001b[43m)\u001b[49m\n\u001b[0;32m     51\u001b[0m \u001b[38;5;28;01mif\u001b[39;00m cv2\u001b[38;5;241m.\u001b[39mwaitKey(\u001b[38;5;241m5\u001b[39m) \u001b[38;5;241m==\u001b[39m \u001b[38;5;28mord\u001b[39m(\u001b[38;5;124m'\u001b[39m\u001b[38;5;124mq\u001b[39m\u001b[38;5;124m'\u001b[39m):\n\u001b[0;32m     52\u001b[0m     \u001b[38;5;28;01mbreak\u001b[39;00m\n",
      "\u001b[1;31merror\u001b[0m: OpenCV(4.10.0) D:\\a\\opencv-python\\opencv-python\\opencv\\modules\\highgui\\src\\window.cpp:1301: error: (-2:Unspecified error) The function is not implemented. Rebuild the library with Windows, GTK+ 2.x or Cocoa support. If you are on Ubuntu or Debian, install libgtk2.0-dev and pkg-config, then re-run cmake or configure script in function 'cvShowImage'\n"
     ]
    }
   ],
   "source": [
    "import cv2\n",
    "import mediapipe as mp\n",
    "\n",
    "def find_landmarks(img_bgr, face_mesh):\n",
    "    \"\"\"Normalized image space to pixel space\"\"\"\n",
    "\n",
    "    img_rgb = cv2.cvtColor(img_bgr, cv2.COLOR_BGR2RGB)\n",
    "    results = face_mesh.process(img_rgb)\n",
    "    landmarks = []\n",
    "    if results.multi_face_landmarks:\n",
    "        for person in results.multi_face_landmarks:\n",
    "            face = []\n",
    "            for id, lm in enumerate(person.landmark):\n",
    "                ih, iw, _ = img_bgr.shape\n",
    "                x, y = int(lm.x * iw), int(lm.y * ih)\n",
    "                face.append([x, y])\n",
    "            landmarks.append(face)\n",
    "    return landmarks\n",
    "\n",
    "cap = cv2.VideoCapture(\"jmhong_face.mp4\")\n",
    "#cap = cv2.VideoCapture(0)\n",
    "\n",
    "with mp.solutions.face_mesh.FaceMesh(\n",
    "    max_num_faces=1,\n",
    "    refine_landmarks=True,\n",
    "    min_detection_confidence=0.5,\n",
    "    min_tracking_confidence=0.5,\n",
    ") as face_mesh:\n",
    "\n",
    "    while cap.isOpened():\n",
    "\n",
    "        success, image = cap.read()\n",
    "        if not success:            \n",
    "            break\n",
    "\n",
    "        landmarks = find_landmarks(image, face_mesh)\n",
    "\n",
    "        if not landmarks:\n",
    "            print(\"No person detected\")\n",
    "            continue\n",
    "\n",
    "        # 모든 랜드마크 그리기\n",
    "        # for xy in landmarks[0]: # [0] is for the first person\n",
    "        #     cv2.circle(image, xy, 2, (255, 255, 255), cv2.FILLED)\n",
    "\n",
    "        # 특정 랜드마크만 그리기\n",
    "        cv2.circle(image, landmarks[0][159], 2, (255, 255, 255), cv2.FILLED)\n",
    "        cv2.circle(image, landmarks[0][145], 2, (255, 255, 255), cv2.FILLED)\n",
    "\n",
    "        cv2.imshow(\"MediaPipe Face Mesh\", image)\n",
    "        if cv2.waitKey(5) == ord('q'):\n",
    "            break\n",
    "\n",
    "cap.release()\n",
    "cv2.destroyAllWindows()"
   ]
  }
 ],
 "metadata": {
  "interpreter": {
   "hash": "8018e705143a54fe8977c076a25f32bbbfeba551799f40fa3d5ac4e2da245feb"
  },
  "kernelspec": {
   "display_name": "Python 3.10.2 ('py310')",
   "language": "python",
   "name": "python3"
  },
  "language_info": {
   "codemirror_mode": {
    "name": "ipython",
    "version": 3
   },
   "file_extension": ".py",
   "mimetype": "text/x-python",
   "name": "python",
   "nbconvert_exporter": "python",
   "pygments_lexer": "ipython3",
   "version": "3.9.19"
  },
  "orig_nbformat": 4
 },
 "nbformat": 4,
 "nbformat_minor": 2
}
